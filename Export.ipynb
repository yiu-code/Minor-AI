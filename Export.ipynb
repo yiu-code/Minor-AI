{
 "cells": [
  {
   "cell_type": "code",
   "execution_count": null,
   "metadata": {},
   "outputs": [],
   "source": [
    "import tensorflow as tf\n",
    "\n",
    "#Exports H5 to PB\n",
    "\n",
    "tf.keras.backend.set_learning_phase(0) # Ignore dropout at inference\n",
    "model = tf.keras.models.load_model('./Good models/model.h5') #Plek waarvan hij de model laad.\n",
    "export_path = './Exported' #Output van de export. \n",
    "\n",
    "# Fetch the Keras session and save the model\n",
    "# The signature definition is defined by the input and output tensors\n",
    "# And stored with the default serving key\n",
    "tf.saved_model.save(\n",
    "    model,\n",
    "    export_path)\n",
    "\n"
   ]
  },
  {
   "cell_type": "code",
   "execution_count": null,
   "metadata": {},
   "outputs": [],
   "source": [
    "#Imports the PB and exports to PBTXT\n",
    "\n",
    "tf.saved_model.load(\"./Exported\")\n",
    "sess = tf.compat.v1.Session()\n",
    "tf.io.write_graph(sess.graph_def, './data/', 'train.pbtxt')"
   ]
  },
  {
   "cell_type": "code",
   "execution_count": null,
   "metadata": {},
   "outputs": [],
   "source": [
    "import cv2\n",
    "\n",
    "# load model\n",
    "net = cv2.dnn.readNetFromTensorflow(\"./Exported/saved_model.pb\")\n",
    "\n",
    "# load a sample image\n",
    "image = cv2.imread(\"COCO/train2017/000000581921.jpg\")\n",
    "\n",
    "# this will resize your sample image to input size that is required by your model (W, H) \n",
    "# and can perform a mean substraction of (mean0, mean1, mean2) for normalzing it.\n",
    "blob = cv2.dnn.blobFromImage(image, 1, (W, H), (mean0, mean1, mean2))\n",
    "\n",
    "# set the blob as input to the network and perform a forward-pass to\n",
    "# obtain our output classification\n",
    "net.setInput(blob)\n",
    "preds = net.forward()\n",
    "\n",
    "# sort the indexes of the probabilities in descending order (higher first) and get the first \n",
    "idx = np.argsort(preds[0])[0]\n",
    "\n",
    "# print the prediction label and probability\n",
    "print(\"Label: {}, {:.2f}%\").format(idx, preds[0][idx] * 100)"
   ]
  },
  {
   "cell_type": "code",
   "execution_count": null,
   "metadata": {},
   "outputs": [],
   "source": []
  }
 ],
 "metadata": {
  "kernelspec": {
   "display_name": "Python 3 - Edit",
   "language": "python",
   "name": "python3"
  },
  "language_info": {
   "codemirror_mode": {
    "name": "ipython",
    "version": 3
   },
   "file_extension": ".py",
   "mimetype": "text/x-python",
   "name": "python",
   "nbconvert_exporter": "python",
   "pygments_lexer": "ipython3",
   "version": "3.7.6"
  }
 },
 "nbformat": 4,
 "nbformat_minor": 4
}
