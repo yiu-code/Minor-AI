{
 "cells": [
  {
   "cell_type": "code",
   "execution_count": 2,
   "metadata": {},
   "outputs": [
    {
     "name": "stdout",
     "output_type": "stream",
     "text": [
      "INFO:tensorflow:Assets written to: ./Exported\\assets\n"
     ]
    }
   ],
   "source": [
    "import tensorflow as tf\n",
    "\n",
    "tf.keras.backend.set_learning_phase(0) # Ignore dropout at inference\n",
    "model = tf.keras.models.load_model('./Good models/model.h5') #Plek waarvan hij de model laad.\n",
    "export_path = './Exported' #Output van de export. \n",
    "\n",
    "# Fetch the Keras session and save the model\n",
    "# The signature definition is defined by the input and output tensors\n",
    "# And stored with the default serving key\n",
    "tf.saved_model.save(\n",
    "    model,\n",
    "    export_path)"
   ]
  },
  {
   "cell_type": "code",
   "execution_count": null,
   "metadata": {},
   "outputs": [],
   "source": []
  }
 ],
 "metadata": {
  "kernelspec": {
   "display_name": "Python 3 - Edit",
   "language": "python",
   "name": "python3"
  },
  "language_info": {
   "codemirror_mode": {
    "name": "ipython",
    "version": 3
   },
   "file_extension": ".py",
   "mimetype": "text/x-python",
   "name": "python",
   "nbconvert_exporter": "python",
   "pygments_lexer": "ipython3",
   "version": "3.7.6"
  }
 },
 "nbformat": 4,
 "nbformat_minor": 4
}
