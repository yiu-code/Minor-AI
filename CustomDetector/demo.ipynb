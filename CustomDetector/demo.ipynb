{
 "cells": [
  {
   "cell_type": "code",
   "execution_count": null,
   "metadata": {},
   "outputs": [],
   "source": [
    "#problem with .pb and .pbtxt files "
   ]
  },
  {
   "cell_type": "code",
   "execution_count": null,
   "metadata": {},
   "outputs": [],
   "source": [
    "# import cv2\n",
    "# import tensorflow as tf\n",
    "# import numpy as np\n",
    "\n",
    "# tensorflowNet = cv2.dnn.readNetFromTensorflow('data/train.pb')\n",
    "\n",
    "# img = cv2.imread('COCO/val2017/000000080273.jpg')\n",
    "\n",
    "# tensorflowNet.setInput(cv2.dnn.blobFromImage(img, size=(img.shape[0], img.shape[1]), swapRB=True, crop=False))\n",
    "# networkOutput = tensorflowNet.forward()\n",
    "# # while True:     \n",
    "# #         cv2.imshow('frame', img)\n",
    "# #         if cv2.waitKey(1) & 0xFF == ord('q'):\n",
    "# #             break\n",
    "\n",
    "# for detection in networkOutput[0,0]:\n",
    "    \n",
    "#     score = float(detection[2])\n",
    "#     if score > 0.2:\n",
    "    \t\n",
    "#         left = detection[3] * cols\n",
    "#         top = detection[4] * rows\n",
    "#         right = detection[5] * cols\n",
    "#         bottom = detection[6] * rows\n",
    "\n",
    "#         #draw a red rectangle around detected objects\n",
    "#         cv2.rectangle(img, (int(left), int(top)), (int(right), int(bottom)), (0, 0, 255), thickness=2)\n",
    "\n",
    "# cv2.imshow('frame', img)\n",
    "# cv2.waitKey(1)\n",
    "# cv2.destroyAllWindows()"
   ]
  },
  {
   "cell_type": "code",
   "execution_count": null,
   "metadata": {},
   "outputs": [],
   "source": []
  }
 ],
 "metadata": {
  "kernelspec": {
   "display_name": "Python 3",
   "language": "python",
   "name": "python3"
  },
  "language_info": {
   "codemirror_mode": {
    "name": "ipython",
    "version": 3
   },
   "file_extension": ".py",
   "mimetype": "text/x-python",
   "name": "python",
   "nbconvert_exporter": "python",
   "pygments_lexer": "ipython3",
   "version": "3.7.7"
  }
 },
 "nbformat": 4,
 "nbformat_minor": 2
}
