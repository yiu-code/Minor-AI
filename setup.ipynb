{
 "cells": [
  {
   "cell_type": "code",
   "execution_count": null,
   "metadata": {},
   "outputs": [],
   "source": [
    "%run process.ipynb"
   ]
  },
  {
   "cell_type": "code",
   "execution_count": 1,
   "metadata": {},
   "outputs": [],
   "source": [
    "from sklearn.model_selection import train_test_split as tts\n",
    "import numpy as np\n",
    "\n",
    "class Setup(object):\n",
    "    setType = ''\n",
    "    batchsize = 0\n",
    "    fetchedData = []\n",
    "    \n",
    "    def __init__ (self, setType, batchSize):\n",
    "        self.setType = setType\n",
    "        self.batchsize = batchSize\n",
    "        \n",
    "    def getTrainingSet(self):\n",
    "        batch = processing.loadData('train')\n",
    "        batch = batch[:self.batchsize]\n",
    "        \n",
    "        images = processing.imagesToNdarry(batch)\n",
    "        \n",
    "        kpsList, visibilityList = processing.splitKeypoints(batch)\n",
    "        \n",
    "        x, kps = processing.augmentationOnAll(images, kpsList)\n",
    "        return x, kps\n",
    "    \n",
    "        Y = processing.mergeKpsVisibility(kps, visibilityList, (self.batchsize, 17,2), (self.batchsize, 51))\n",
    "\n",
    "        newImg = x[0].draw_on_image(ksp[0], size=7)\n",
    "        plt.imshow(newImg)\n",
    "        x_train, x_test, y_train, y_test = tts(x,Y, random_state=69, test_size=0.15)\n",
    "        images = []\n",
    "        return x_train, x_test, y_train, y_test"
   ]
  },
  {
   "cell_type": "code",
   "execution_count": 2,
   "metadata": {},
   "outputs": [],
   "source": [
    "#something wrong with code (xtrain image)"
   ]
  },
  {
   "cell_type": "code",
   "execution_count": null,
   "metadata": {},
   "outputs": [],
   "source": []
  }
 ],
 "metadata": {
  "kernelspec": {
   "display_name": "Python 3",
   "language": "python",
   "name": "python3"
  },
  "language_info": {
   "codemirror_mode": {
    "name": "ipython",
    "version": 3
   },
   "file_extension": ".py",
   "mimetype": "text/x-python",
   "name": "python",
   "nbconvert_exporter": "python",
   "pygments_lexer": "ipython3",
   "version": "3.7.1"
  }
 },
 "nbformat": 4,
 "nbformat_minor": 2
}
