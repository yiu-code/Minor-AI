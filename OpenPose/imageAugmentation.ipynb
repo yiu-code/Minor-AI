{
 "cells": [
  {
   "cell_type": "code",
   "execution_count": null,
   "metadata": {},
   "outputs": [],
   "source": [
    "import numpy as np\n",
    "import time\n",
    "import os\n",
    "import cv2\n",
    "from keras.preprocessing.image import load_img\n",
    "from keras.preprocessing.image import img_to_array\n",
    "from keras.preprocessing.image import ImageDataGenerator\n",
    "import matplotlib.pyplot as plt\n",
    "%matplotlib inline"
   ]
  },
  {
   "cell_type": "code",
   "execution_count": null,
   "metadata": {},
   "outputs": [],
   "source": [
    "inputPath = 'treePose/'\n",
    "outputPath = 'AugTree/'\n",
    "\n",
    "iteration = 0\n",
    "for filename in os.scandir(inputPath):\n",
    "    if (filename.path.endswith(\".jpg\") or filename.path.endswith(\".png\")) and filename.is_file():\n",
    "        print(\"image: \" + str(iteration))\n",
    "        img = load_img(filename.path)\n",
    "        data = img_to_array(img)\n",
    "        samples = np.expand_dims(data, 0)\n",
    "        \n",
    "        image_gen = ImageDataGenerator(rotation_range=10, # rotate the image 30 degrees\n",
    "                               width_shift_range=0.1, # Shift the pic width by a max of 10%\n",
    "                               height_shift_range=0.1, # Shift the pic height by a max of 10%\n",
    "                               shear_range=0.1, # Shear means cutting away part of the image (max 10%)\n",
    "                               zoom_range=0.1, # Zoom in by 10% max\n",
    "                               fill_mode='nearest' # Fill in missing pixels with the nearest filled value\n",
    "                              )\n",
    "        it = image_gen.flow(samples, batch_size=1)\n",
    "        for i in range(5):\n",
    "            batch = it.next()\n",
    "            image = cv2.cvtColor(batch[0],cv2.COLOR_BGR2RGB)\n",
    "            cv2.imwrite(outputPath + str(i) + '_' + os.path.basename(filename.path),image)\n",
    "        iteration+=1\n",
    "print('finished')"
   ]
  },
  {
   "cell_type": "code",
   "execution_count": null,
   "metadata": {},
   "outputs": [],
   "source": []
  }
 ],
 "metadata": {
  "kernelspec": {
   "display_name": "Python 3",
   "language": "python",
   "name": "python3"
  },
  "language_info": {
   "codemirror_mode": {
    "name": "ipython",
    "version": 3
   },
   "file_extension": ".py",
   "mimetype": "text/x-python",
   "name": "python",
   "nbconvert_exporter": "python",
   "pygments_lexer": "ipython3",
   "version": "3.7.7"
  }
 },
 "nbformat": 4,
 "nbformat_minor": 2
}
