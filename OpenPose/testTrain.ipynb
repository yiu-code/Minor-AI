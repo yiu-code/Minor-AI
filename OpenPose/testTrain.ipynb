{
 "cells": [
  {
   "cell_type": "code",
   "execution_count": 17,
   "metadata": {},
   "outputs": [],
   "source": [
    "import numpy as np\n",
    "import matplotlib.pyplot as plt\n",
    "import pandas as pd\n",
    "from xgboost import XGBClassifier\n",
    "import json\n",
    "\n",
    "with open('OpenPosetrain.json') as f:\n",
    "  file = json.load(f)\n",
    "\n",
    "data = file['data']\n",
    "x_train =[]\n",
    "y_train = []\n",
    "\n",
    "def labelToNumerical(label):\n",
    "    if label == 'WarriorPoseI':\n",
    "        return 0\n",
    "    if label == 'WarriorPoseII':\n",
    "        return 1\n",
    "    if label == 'WarriorPoseIII':\n",
    "        return 2\n",
    "    if label == 'TreePose':\n",
    "        return 3\n",
    "\n",
    "i = 0\n",
    "for i in range(len(data)):\n",
    "    kpsArr = []\n",
    "    labels = []\n",
    "    for kps in data[i]['xs'].items():\n",
    "        kpsArr.append(kps[1])\n",
    "    for label in data[i]['ys'].items():\n",
    "        labels.append(labelToNumerical(label[1]))\n",
    "    x_train.append(kpsArr)\n",
    "    y_train.append(labels)\n",
    "\n",
    "x_train = np.asarray(x_train)\n",
    "y_train = np.asarray(y_train)\n"
   ]
  },
  {
   "cell_type": "code",
   "execution_count": 18,
   "metadata": {},
   "outputs": [
    {
     "name": "stdout",
     "output_type": "stream",
     "text": [
      "Finished training...\n"
     ]
    }
   ],
   "source": [
    "clf = XGBClassifier(eta=0.05, \n",
    "                    max_depth=10, \n",
    "                    objective='multi:softprob', \n",
    "                    min_child_weight=1, \n",
    "                    subsample=0.635,\n",
    "                    colsample_bytree=0.61,\n",
    "                    reg_alpha=0.001,\n",
    "                    n_estimators= 157,\n",
    "                    num_class = 4\n",
    "                    ) #0.37263\n",
    "\n",
    "#Train model\n",
    "clf.fit(x_train, y_train.ravel())\n",
    "\n",
    "print('Finished training...')\n",
    "\n",
    "clf.save_model('postnet.model')\n",
    "#Predict probability of X_test with the model\n",
    "# y_prob = clf.predict_proba(test_data)"
   ]
  },
  {
   "cell_type": "code",
   "execution_count": 20,
   "metadata": {},
   "outputs": [
    {
     "name": "stdout",
     "output_type": "stream",
     "text": [
      "0\n"
     ]
    }
   ],
   "source": [
    "test = [212.5, 95.0, 225.0, 115.0, 218.75, 115.0, 0, 0, 0, 0, 237.5, 115.0, 243.75, 100.0, 231.25, 85.0, 225.0, 170.0, 243.75, 180.0, 331.25, 235.0, 231.25, 170.0, 181.25, 190.0, 187.5, 235.0, 0, 0, 212.5, 90.0, 0, 0, 225.0, 95.0]\n",
    "res = clf.predict(np.expand_dims(test, axis=0))\n",
    "print(res[0])"
   ]
  },
  {
   "cell_type": "code",
   "execution_count": null,
   "metadata": {},
   "outputs": [],
   "source": []
  }
 ],
 "metadata": {
  "kernelspec": {
   "display_name": "Python 3",
   "language": "python",
   "name": "python3"
  },
  "language_info": {
   "codemirror_mode": {
    "name": "ipython",
    "version": 3
   },
   "file_extension": ".py",
   "mimetype": "text/x-python",
   "name": "python",
   "nbconvert_exporter": "python",
   "pygments_lexer": "ipython3",
   "version": "3.7.7"
  }
 },
 "nbformat": 4,
 "nbformat_minor": 2
}
