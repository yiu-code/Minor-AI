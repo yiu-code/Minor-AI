{
 "cells": [
  {
   "cell_type": "code",
   "execution_count": 9,
   "metadata": {},
   "outputs": [],
   "source": [
    "import keras\n",
    "from keras.utils import to_categorical\n",
    "from sklearn.model_selection import train_test_split\n",
    "import pandas as pd\n",
    "import numpy as np\n",
    "import json"
   ]
  },
  {
   "cell_type": "code",
   "execution_count": 10,
   "metadata": {},
   "outputs": [],
   "source": [
    "with open('OpenPoseV2.json') as f:\n",
    "  file = json.load(f)"
   ]
  },
  {
   "cell_type": "code",
   "execution_count": 11,
   "metadata": {},
   "outputs": [],
   "source": [
    "data = file['data']\n",
    "x_train =[]\n",
    "y_train = []\n",
    "\n",
    "def labelToNumerical(label):\n",
    "    if label == 'WarriorPoseI':\n",
    "        return 0\n",
    "    if label == 'WarriorPoseII':\n",
    "        return 1\n",
    "    if label == 'WarriorPoseIII':\n",
    "        return 2\n",
    "    if label == 'TreePose':\n",
    "        return 3\n",
    "\n",
    "i = 0\n",
    "for i in range(len(data)):\n",
    "    kpsArr = []\n",
    "    labels = []\n",
    "    for kps in data[i]['xs'].items():\n",
    "        print\n",
    "        kpsArr.append(kps[1])\n",
    "    for label in data[i]['ys'].items():\n",
    "        labels.append(labelToNumerical(label[1]))\n",
    "    x_train.append(kpsArr)\n",
    "    y_train.append(labels)\n",
    "    "
   ]
  },
  {
   "cell_type": "code",
   "execution_count": 12,
   "metadata": {},
   "outputs": [
    {
     "name": "stdout",
     "output_type": "stream",
     "text": [
      "[446.025, 116.66666666666667, 446.025, 157.5, 438.2, 169.16666666666666, 446.025, 215.83333333333334, 0, 0, 453.85, 151.66666666666666, 469.5, 93.33333333333333, 485.15, 64.16666666666667, 438.2, 221.66666666666666, 391.25, 250.83333333333334, 399.075, 320.8333333333333, 461.675, 215.83333333333334, 500.8, 256.6666666666667, 563.4, 297.5, 446.025, 116.66666666666667, 453.85, 116.66666666666667, 0, 0, 0, 0]\n",
      "(1295, 36)\n",
      "[446.025      116.66666667 446.025      157.5        438.2\n",
      " 169.16666667 446.025      215.83333333   0.           0.\n",
      " 453.85       151.66666667 469.5         93.33333333 485.15\n",
      "  64.16666667 438.2        221.66666667 391.25       250.83333333\n",
      " 399.075      320.83333333 461.675      215.83333333 500.8\n",
      " 256.66666667 563.4        297.5        446.025      116.66666667\n",
      " 453.85       116.66666667   0.           0.           0.\n",
      "   0.        ]\n"
     ]
    }
   ],
   "source": [
    "print(x_train[0])\n",
    "x_train = np.asarray(x_train)\n",
    "print(x_train.shape)\n",
    "print(x_train[0])"
   ]
  },
  {
   "cell_type": "code",
   "execution_count": 13,
   "metadata": {},
   "outputs": [
    {
     "name": "stdout",
     "output_type": "stream",
     "text": [
      "[0]\n",
      "(1295, 1)\n",
      "[[0]\n",
      " [0]\n",
      " [0]\n",
      " ...\n",
      " [3]\n",
      " [3]\n",
      " [3]]\n"
     ]
    }
   ],
   "source": [
    "print(y_train[0])\n",
    "y_train = np.asarray(y_train)\n",
    "print(y_train.shape)\n",
    "print(y_train)"
   ]
  },
  {
   "cell_type": "code",
   "execution_count": 14,
   "metadata": {},
   "outputs": [],
   "source": [
    "y_cat_train = to_categorical(y_train,4)"
   ]
  },
  {
   "cell_type": "code",
   "execution_count": 15,
   "metadata": {},
   "outputs": [
    {
     "data": {
      "text/plain": [
       "array([1., 0., 0., 0.], dtype=float32)"
      ]
     },
     "execution_count": 15,
     "metadata": {},
     "output_type": "execute_result"
    }
   ],
   "source": [
    "y_cat_train[0]"
   ]
  },
  {
   "cell_type": "markdown",
   "metadata": {},
   "source": [
    "# Building the model"
   ]
  },
  {
   "cell_type": "code",
   "execution_count": 16,
   "metadata": {},
   "outputs": [
    {
     "name": "stdout",
     "output_type": "stream",
     "text": [
      "Train on 1036 samples, validate on 259 samples\n",
      "Epoch 1/100\n",
      "1036/1036 [==============================] - 0s 116us/step - loss: 252.4121 - accuracy: 0.3764 - val_loss: 278.7564 - val_accuracy: 0.0000e+00\n",
      "Epoch 2/100\n",
      "1036/1036 [==============================] - 0s 33us/step - loss: 69.9500 - accuracy: 0.3716 - val_loss: 60.3544 - val_accuracy: 0.1351\n",
      "Epoch 3/100\n",
      "1036/1036 [==============================] - 0s 31us/step - loss: 20.7462 - accuracy: 0.4730 - val_loss: 27.0432 - val_accuracy: 0.0000e+00\n",
      "Epoch 4/100\n",
      "1036/1036 [==============================] - 0s 30us/step - loss: 8.5352 - accuracy: 0.5338 - val_loss: 15.5850 - val_accuracy: 0.0000e+00\n",
      "Epoch 5/100\n",
      "1036/1036 [==============================] - 0s 30us/step - loss: 5.5214 - accuracy: 0.5241 - val_loss: 10.5485 - val_accuracy: 0.0000e+00\n",
      "Epoch 6/100\n",
      "1036/1036 [==============================] - 0s 29us/step - loss: 4.6771 - accuracy: 0.5068 - val_loss: 8.0288 - val_accuracy: 0.0000e+00\n",
      "Epoch 7/100\n",
      "1036/1036 [==============================] - 0s 29us/step - loss: 2.9272 - accuracy: 0.5125 - val_loss: 7.1302 - val_accuracy: 0.0000e+00\n",
      "Epoch 8/100\n",
      "1036/1036 [==============================] - 0s 28us/step - loss: 2.8868 - accuracy: 0.5087 - val_loss: 6.6904 - val_accuracy: 0.0000e+00\n",
      "Epoch 9/100\n",
      "1036/1036 [==============================] - 0s 29us/step - loss: 2.0905 - accuracy: 0.5106 - val_loss: 6.0305 - val_accuracy: 0.0000e+00\n",
      "Epoch 10/100\n",
      "1036/1036 [==============================] - 0s 29us/step - loss: 1.8398 - accuracy: 0.4990 - val_loss: 5.1183 - val_accuracy: 0.0000e+00\n",
      "Epoch 11/100\n",
      "1036/1036 [==============================] - 0s 28us/step - loss: 1.6504 - accuracy: 0.5010 - val_loss: 4.8927 - val_accuracy: 0.0000e+00\n",
      "Epoch 12/100\n",
      "1036/1036 [==============================] - 0s 29us/step - loss: 1.5142 - accuracy: 0.5029 - val_loss: 4.8414 - val_accuracy: 0.0000e+00\n",
      "Epoch 13/100\n",
      "1036/1036 [==============================] - 0s 28us/step - loss: 1.4895 - accuracy: 0.5048 - val_loss: 4.7830 - val_accuracy: 0.0000e+00\n",
      "Epoch 14/100\n",
      "1036/1036 [==============================] - 0s 29us/step - loss: 1.7003 - accuracy: 0.4990 - val_loss: 4.5572 - val_accuracy: 0.0000e+00\n",
      "Epoch 15/100\n",
      "1036/1036 [==============================] - 0s 29us/step - loss: 1.5852 - accuracy: 0.5029 - val_loss: 4.2969 - val_accuracy: 0.0000e+00\n",
      "Epoch 16/100\n",
      "1036/1036 [==============================] - 0s 28us/step - loss: 1.5058 - accuracy: 0.4981 - val_loss: 4.0468 - val_accuracy: 0.0000e+00\n",
      "Epoch 17/100\n",
      "1036/1036 [==============================] - 0s 32us/step - loss: 1.4270 - accuracy: 0.4981 - val_loss: 4.0036 - val_accuracy: 0.0000e+00\n",
      "Epoch 18/100\n",
      "1036/1036 [==============================] - 0s 34us/step - loss: 1.3158 - accuracy: 0.4981 - val_loss: 3.9873 - val_accuracy: 0.0000e+00\n",
      "Epoch 19/100\n",
      "1036/1036 [==============================] - 0s 29us/step - loss: 1.2937 - accuracy: 0.4961 - val_loss: 3.9872 - val_accuracy: 0.0000e+00\n",
      "Epoch 20/100\n",
      "1036/1036 [==============================] - 0s 32us/step - loss: 1.4351 - accuracy: 0.4942 - val_loss: 3.8978 - val_accuracy: 0.0000e+00\n",
      "Epoch 21/100\n",
      "1036/1036 [==============================] - 0s 34us/step - loss: 1.3944 - accuracy: 0.4961 - val_loss: 3.8726 - val_accuracy: 0.0000e+00\n",
      "Epoch 22/100\n",
      "1036/1036 [==============================] - 0s 32us/step - loss: 1.2810 - accuracy: 0.4990 - val_loss: 3.8647 - val_accuracy: 0.0000e+00\n",
      "Epoch 23/100\n",
      "1036/1036 [==============================] - 0s 28us/step - loss: 1.3452 - accuracy: 0.4952 - val_loss: 3.8489 - val_accuracy: 0.0000e+00\n",
      "Epoch 24/100\n",
      "1036/1036 [==============================] - 0s 29us/step - loss: 1.3015 - accuracy: 0.5000 - val_loss: 3.8486 - val_accuracy: 0.0000e+00\n",
      "Epoch 25/100\n",
      "1036/1036 [==============================] - 0s 30us/step - loss: 1.4529 - accuracy: 0.5010 - val_loss: 3.8538 - val_accuracy: 0.0000e+00\n",
      "Epoch 26/100\n",
      "1036/1036 [==============================] - 0s 29us/step - loss: 1.2249 - accuracy: 0.4981 - val_loss: 3.8596 - val_accuracy: 0.0000e+00\n",
      "Epoch 27/100\n",
      "1036/1036 [==============================] - 0s 28us/step - loss: 1.2567 - accuracy: 0.5000 - val_loss: 3.8690 - val_accuracy: 0.0000e+00\n",
      "Epoch 28/100\n",
      "1036/1036 [==============================] - 0s 28us/step - loss: 1.2004 - accuracy: 0.4990 - val_loss: 3.8515 - val_accuracy: 0.0000e+00\n",
      "Epoch 29/100\n",
      "1036/1036 [==============================] - 0s 29us/step - loss: 1.2514 - accuracy: 0.4961 - val_loss: 3.8138 - val_accuracy: 0.0000e+00\n",
      "Epoch 30/100\n",
      "1036/1036 [==============================] - 0s 30us/step - loss: 1.2641 - accuracy: 0.4981 - val_loss: 3.8280 - val_accuracy: 0.0000e+00\n",
      "Epoch 31/100\n",
      "1036/1036 [==============================] - 0s 29us/step - loss: 1.1915 - accuracy: 0.4923 - val_loss: 3.8507 - val_accuracy: 0.0000e+00\n",
      "Epoch 32/100\n",
      "1036/1036 [==============================] - 0s 29us/step - loss: 1.1974 - accuracy: 0.4981 - val_loss: 3.8740 - val_accuracy: 0.0000e+00\n",
      "Epoch 33/100\n",
      "1036/1036 [==============================] - 0s 28us/step - loss: 1.1779 - accuracy: 0.4981 - val_loss: 3.8994 - val_accuracy: 0.0000e+00\n",
      "Epoch 34/100\n",
      "1036/1036 [==============================] - 0s 30us/step - loss: 1.2175 - accuracy: 0.4961 - val_loss: 3.9213 - val_accuracy: 0.0000e+00\n",
      "Epoch 35/100\n",
      "1036/1036 [==============================] - 0s 30us/step - loss: 1.2171 - accuracy: 0.4981 - val_loss: 3.8941 - val_accuracy: 0.0000e+00\n",
      "Epoch 36/100\n",
      "1036/1036 [==============================] - 0s 29us/step - loss: 1.1831 - accuracy: 0.4981 - val_loss: 3.9141 - val_accuracy: 0.0000e+00\n",
      "Epoch 37/100\n",
      "1036/1036 [==============================] - 0s 29us/step - loss: 1.1556 - accuracy: 0.4923 - val_loss: 3.9275 - val_accuracy: 0.0000e+00\n",
      "Epoch 38/100\n",
      "1036/1036 [==============================] - 0s 30us/step - loss: 1.1801 - accuracy: 0.4952 - val_loss: 3.9423 - val_accuracy: 0.0000e+00\n",
      "Epoch 39/100\n",
      "1036/1036 [==============================] - 0s 36us/step - loss: 1.2035 - accuracy: 0.4971 - val_loss: 3.9646 - val_accuracy: 0.0000e+00\n",
      "Epoch 40/100\n",
      "1036/1036 [==============================] - 0s 29us/step - loss: 1.1643 - accuracy: 0.4971 - val_loss: 3.9763 - val_accuracy: 0.0000e+00\n",
      "Epoch 41/100\n",
      "1036/1036 [==============================] - 0s 28us/step - loss: 1.1680 - accuracy: 0.4971 - val_loss: 3.9938 - val_accuracy: 0.0000e+00\n",
      "Epoch 42/100\n",
      "1036/1036 [==============================] - 0s 29us/step - loss: 1.1769 - accuracy: 0.5029 - val_loss: 4.0134 - val_accuracy: 0.0000e+00\n",
      "Epoch 43/100\n",
      "1036/1036 [==============================] - 0s 28us/step - loss: 1.2942 - accuracy: 0.4923 - val_loss: 4.0327 - val_accuracy: 0.0000e+00\n",
      "Epoch 44/100\n",
      "1036/1036 [==============================] - 0s 32us/step - loss: 1.1737 - accuracy: 0.5039 - val_loss: 4.0344 - val_accuracy: 0.0000e+00\n",
      "Epoch 45/100\n",
      "1036/1036 [==============================] - 0s 29us/step - loss: 1.1546 - accuracy: 0.4981 - val_loss: 4.0527 - val_accuracy: 0.0000e+00\n",
      "Epoch 46/100\n",
      "1036/1036 [==============================] - 0s 31us/step - loss: 1.1423 - accuracy: 0.5058 - val_loss: 4.0707 - val_accuracy: 0.0000e+00\n",
      "Epoch 47/100\n",
      "1036/1036 [==============================] - 0s 32us/step - loss: 1.1296 - accuracy: 0.5019 - val_loss: 4.0908 - val_accuracy: 0.0000e+00\n",
      "Epoch 48/100\n",
      "1036/1036 [==============================] - 0s 31us/step - loss: 1.1508 - accuracy: 0.4961 - val_loss: 4.0983 - val_accuracy: 0.0000e+00\n",
      "Epoch 49/100\n",
      "1036/1036 [==============================] - 0s 30us/step - loss: 1.1440 - accuracy: 0.5019 - val_loss: 4.1126 - val_accuracy: 0.0000e+00\n",
      "Epoch 50/100\n",
      "1036/1036 [==============================] - 0s 29us/step - loss: 1.1477 - accuracy: 0.4990 - val_loss: 4.1363 - val_accuracy: 0.0000e+00\n",
      "Epoch 51/100\n",
      "1036/1036 [==============================] - 0s 30us/step - loss: 1.1343 - accuracy: 0.4971 - val_loss: 4.1495 - val_accuracy: 0.0000e+00\n",
      "Epoch 52/100\n",
      "1036/1036 [==============================] - 0s 30us/step - loss: 1.2417 - accuracy: 0.4981 - val_loss: 4.1525 - val_accuracy: 0.0000e+00\n",
      "Epoch 53/100\n",
      "1036/1036 [==============================] - 0s 29us/step - loss: 1.1457 - accuracy: 0.4981 - val_loss: 4.1644 - val_accuracy: 0.0000e+00\n",
      "Epoch 54/100\n",
      "1036/1036 [==============================] - 0s 30us/step - loss: 1.2509 - accuracy: 0.4952 - val_loss: 4.1766 - val_accuracy: 0.0000e+00\n",
      "Epoch 55/100\n",
      "1036/1036 [==============================] - 0s 31us/step - loss: 1.2265 - accuracy: 0.4981 - val_loss: 4.1824 - val_accuracy: 0.0000e+00\n",
      "Epoch 56/100\n",
      "1036/1036 [==============================] - 0s 30us/step - loss: 1.1621 - accuracy: 0.4932 - val_loss: 4.1903 - val_accuracy: 0.0000e+00\n",
      "Epoch 57/100\n",
      "1036/1036 [==============================] - 0s 30us/step - loss: 1.1583 - accuracy: 0.4942 - val_loss: 4.1976 - val_accuracy: 0.0000e+00\n",
      "Epoch 58/100\n",
      "1036/1036 [==============================] - 0s 31us/step - loss: 1.1361 - accuracy: 0.5000 - val_loss: 4.2124 - val_accuracy: 0.0000e+00\n",
      "Epoch 59/100\n",
      "1036/1036 [==============================] - 0s 30us/step - loss: 1.1522 - accuracy: 0.4932 - val_loss: 4.2277 - val_accuracy: 0.0000e+00\n",
      "Epoch 60/100\n",
      "1036/1036 [==============================] - 0s 30us/step - loss: 1.1398 - accuracy: 0.4942 - val_loss: 4.2435 - val_accuracy: 0.0000e+00\n",
      "Epoch 61/100\n",
      "1036/1036 [==============================] - 0s 29us/step - loss: 1.1265 - accuracy: 0.4981 - val_loss: 4.2581 - val_accuracy: 0.0000e+00\n",
      "Epoch 62/100\n",
      "1036/1036 [==============================] - 0s 30us/step - loss: 1.2163 - accuracy: 0.4981 - val_loss: 4.2732 - val_accuracy: 0.0000e+00\n",
      "Epoch 63/100\n",
      "1036/1036 [==============================] - 0s 30us/step - loss: 1.1290 - accuracy: 0.5000 - val_loss: 4.2877 - val_accuracy: 0.0000e+00\n",
      "Epoch 64/100\n",
      "1036/1036 [==============================] - 0s 29us/step - loss: 1.1330 - accuracy: 0.4971 - val_loss: 4.3007 - val_accuracy: 0.0000e+00\n",
      "Epoch 65/100\n",
      "1036/1036 [==============================] - 0s 29us/step - loss: 1.1306 - accuracy: 0.4981 - val_loss: 4.3196 - val_accuracy: 0.0000e+00\n",
      "Epoch 66/100\n",
      "1036/1036 [==============================] - 0s 27us/step - loss: 1.1234 - accuracy: 0.5010 - val_loss: 4.3268 - val_accuracy: 0.0000e+00\n",
      "Epoch 67/100\n",
      "1036/1036 [==============================] - 0s 30us/step - loss: 1.2117 - accuracy: 0.4981 - val_loss: 4.3340 - val_accuracy: 0.0000e+00\n",
      "Epoch 68/100\n",
      "1036/1036 [==============================] - 0s 30us/step - loss: 1.2068 - accuracy: 0.4961 - val_loss: 4.3534 - val_accuracy: 0.0000e+00\n",
      "Epoch 69/100\n",
      "1036/1036 [==============================] - 0s 29us/step - loss: 1.1306 - accuracy: 0.4971 - val_loss: 4.3327 - val_accuracy: 0.0000e+00\n",
      "Epoch 70/100\n",
      "1036/1036 [==============================] - 0s 27us/step - loss: 1.1272 - accuracy: 0.4971 - val_loss: 4.3570 - val_accuracy: 0.0000e+00\n",
      "Epoch 71/100\n",
      "1036/1036 [==============================] - 0s 29us/step - loss: 1.1264 - accuracy: 0.4961 - val_loss: 4.3692 - val_accuracy: 0.0000e+00\n",
      "Epoch 72/100\n",
      "1036/1036 [==============================] - 0s 29us/step - loss: 1.1255 - accuracy: 0.4971 - val_loss: 4.3808 - val_accuracy: 0.0000e+00\n",
      "Epoch 73/100\n",
      "1036/1036 [==============================] - 0s 29us/step - loss: 1.1202 - accuracy: 0.5000 - val_loss: 4.3953 - val_accuracy: 0.0000e+00\n",
      "Epoch 74/100\n",
      "1036/1036 [==============================] - 0s 28us/step - loss: 1.1280 - accuracy: 0.4952 - val_loss: 4.4198 - val_accuracy: 0.0000e+00\n",
      "Epoch 75/100\n",
      "1036/1036 [==============================] - 0s 30us/step - loss: 1.1231 - accuracy: 0.4981 - val_loss: 4.4324 - val_accuracy: 0.0000e+00\n",
      "Epoch 76/100\n",
      "1036/1036 [==============================] - 0s 29us/step - loss: 1.1181 - accuracy: 0.5010 - val_loss: 4.4649 - val_accuracy: 0.0000e+00\n",
      "Epoch 77/100\n",
      "1036/1036 [==============================] - 0s 28us/step - loss: 1.1185 - accuracy: 0.5010 - val_loss: 4.4827 - val_accuracy: 0.0000e+00\n",
      "Epoch 78/100\n",
      "1036/1036 [==============================] - 0s 31us/step - loss: 1.1325 - accuracy: 0.5010 - val_loss: 4.4460 - val_accuracy: 0.0000e+00\n",
      "Epoch 79/100\n",
      "1036/1036 [==============================] - 0s 30us/step - loss: 1.1254 - accuracy: 0.4961 - val_loss: 4.4248 - val_accuracy: 0.0000e+00\n",
      "Epoch 80/100\n",
      "1036/1036 [==============================] - 0s 31us/step - loss: 1.1189 - accuracy: 0.5000 - val_loss: 4.4342 - val_accuracy: 0.0000e+00\n",
      "Epoch 81/100\n",
      "1036/1036 [==============================] - 0s 30us/step - loss: 1.1214 - accuracy: 0.4981 - val_loss: 4.4462 - val_accuracy: 0.0000e+00\n",
      "Epoch 82/100\n",
      "1036/1036 [==============================] - 0s 30us/step - loss: 1.1256 - accuracy: 0.4952 - val_loss: 4.4546 - val_accuracy: 0.0000e+00\n",
      "Epoch 83/100\n",
      "1036/1036 [==============================] - 0s 29us/step - loss: 1.1276 - accuracy: 0.4942 - val_loss: 4.4653 - val_accuracy: 0.0000e+00\n",
      "Epoch 84/100\n",
      "1036/1036 [==============================] - 0s 30us/step - loss: 1.1239 - accuracy: 0.4961 - val_loss: 4.4865 - val_accuracy: 0.0000e+00\n",
      "Epoch 85/100\n",
      "1036/1036 [==============================] - 0s 31us/step - loss: 1.1217 - accuracy: 0.4971 - val_loss: 4.5143 - val_accuracy: 0.0000e+00\n",
      "Epoch 86/100\n",
      "1036/1036 [==============================] - 0s 28us/step - loss: 1.1243 - accuracy: 0.4961 - val_loss: 4.5270 - val_accuracy: 0.0000e+00\n",
      "Epoch 87/100\n",
      "1036/1036 [==============================] - 0s 27us/step - loss: 1.1191 - accuracy: 0.4990 - val_loss: 4.5379 - val_accuracy: 0.0000e+00\n",
      "Epoch 88/100\n",
      "1036/1036 [==============================] - 0s 31us/step - loss: 1.1182 - accuracy: 0.5000 - val_loss: 4.5483 - val_accuracy: 0.0000e+00\n",
      "Epoch 89/100\n",
      "1036/1036 [==============================] - 0s 28us/step - loss: 1.1233 - accuracy: 0.4961 - val_loss: 4.5604 - val_accuracy: 0.0000e+00\n",
      "Epoch 90/100\n",
      "1036/1036 [==============================] - 0s 31us/step - loss: 1.1197 - accuracy: 0.4990 - val_loss: 4.5715 - val_accuracy: 0.0000e+00\n",
      "Epoch 91/100\n",
      "1036/1036 [==============================] - 0s 33us/step - loss: 1.1159 - accuracy: 0.5019 - val_loss: 4.5718 - val_accuracy: 0.0000e+00\n",
      "Epoch 92/100\n",
      "1036/1036 [==============================] - 0s 31us/step - loss: 1.1089 - accuracy: 0.5058 - val_loss: 4.5707 - val_accuracy: 0.0000e+00\n",
      "Epoch 93/100\n",
      "1036/1036 [==============================] - 0s 29us/step - loss: 1.1890 - accuracy: 0.4990 - val_loss: 4.5804 - val_accuracy: 0.0000e+00\n",
      "Epoch 94/100\n",
      "1036/1036 [==============================] - 0s 30us/step - loss: 1.1206 - accuracy: 0.4981 - val_loss: 4.6120 - val_accuracy: 0.0000e+00\n",
      "Epoch 95/100\n",
      "1036/1036 [==============================] - 0s 28us/step - loss: 1.1870 - accuracy: 0.4961 - val_loss: 4.5954 - val_accuracy: 0.0000e+00\n",
      "Epoch 96/100\n",
      "1036/1036 [==============================] - 0s 30us/step - loss: 1.1226 - accuracy: 0.4961 - val_loss: 4.5997 - val_accuracy: 0.0000e+00\n",
      "Epoch 97/100\n",
      "1036/1036 [==============================] - 0s 28us/step - loss: 1.1206 - accuracy: 0.4981 - val_loss: 4.6135 - val_accuracy: 0.0000e+00\n",
      "Epoch 98/100\n",
      "1036/1036 [==============================] - 0s 27us/step - loss: 1.1190 - accuracy: 0.4990 - val_loss: 4.6208 - val_accuracy: 0.0000e+00\n",
      "Epoch 99/100\n",
      "1036/1036 [==============================] - 0s 28us/step - loss: 1.1260 - accuracy: 0.4942 - val_loss: 4.6318 - val_accuracy: 0.0000e+00\n",
      "Epoch 100/100\n",
      "1036/1036 [==============================] - 0s 28us/step - loss: 1.1180 - accuracy: 0.4990 - val_loss: 4.6364 - val_accuracy: 0.0000e+00\n"
     ]
    }
   ],
   "source": [
    "from keras.models import Sequential\n",
    "from keras.layers import Dense, Dropout, Activation\n",
    "\n",
    "model = Sequential()\n",
    "\n",
    "model.add(Dense(16, activation='relu'))\n",
    "model.add(Dropout(0.5))\n",
    "model.add(Dense(4, activation='softmax'))\n",
    "model.compile(loss='categorical_crossentropy', optimizer='adam', metrics=['accuracy'])\n",
    "\n",
    "hist = model.fit(x_train, y_cat_train, validation_split=0.2, verbose=1, epochs=100)"
   ]
  },
  {
   "cell_type": "code",
   "execution_count": 17,
   "metadata": {},
   "outputs": [
    {
     "data": {
      "text/plain": [
       "[<matplotlib.lines.Line2D at 0x1a3e9a31608>]"
      ]
     },
     "execution_count": 17,
     "metadata": {},
     "output_type": "execute_result"
    },
    {
     "data": {
      "image/png": "[encoded data removed]",
      "text/plain": [
       "<Figure size 432x288 with 1 Axes>"
      ]
     },
     "metadata": {
      "needs_background": "light"
     },
     "output_type": "display_data"
    }
   ],
   "source": [
    "import matplotlib.pyplot as plt\n",
    "%matplotlib inline\n",
    "\n",
    "plt.plot(hist.history['loss'])"
   ]
  },
  {
   "cell_type": "code",
   "execution_count": 18,
   "metadata": {},
   "outputs": [],
   "source": [
    "model.save('OpenPose_Keras.h5')"
   ]
  },
  {
   "cell_type": "code",
   "execution_count": null,
   "metadata": {},
   "outputs": [],
   "source": []
  }
 ],
 "metadata": {
  "kernelspec": {
   "display_name": "Python 3",
   "language": "python",
   "name": "python3"
  },
  "language_info": {
   "codemirror_mode": {
    "name": "ipython",
    "version": 3
   },
   "file_extension": ".py",
   "mimetype": "text/x-python",
   "name": "python",
   "nbconvert_exporter": "python",
   "pygments_lexer": "ipython3",
   "version": "3.7.7"
  }
 },
 "nbformat": 4,
 "nbformat_minor": 2
}
