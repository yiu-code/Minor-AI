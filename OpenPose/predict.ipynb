{
 "cells": [
  {
   "cell_type": "code",
   "execution_count": 13,
   "metadata": {},
   "outputs": [
    {
     "name": "stdout",
     "output_type": "stream",
     "text": [
      "time taken by network : 2.021\n",
      "Warrior Pose 2\n",
      "Total time taken : 2.124\n"
     ]
    },
    {
     "data": {
      "text/plain": [
       "-1"
      ]
     },
     "execution_count": 13,
     "metadata": {},
     "output_type": "execute_result"
    }
   ],
   "source": [
    "import cv2\n",
    "import time\n",
    "import numpy as np\n",
    "from keras.models import load_model\n",
    "from sklearn.metrics import classification_report\n",
    "\n",
    "model = load_model('test.h5')\n",
    "protoFile = \"pose/coco/pose_deploy_linevec.prototxt\"\n",
    "weightsFile = \"pose/coco/pose_iter_440000.caffemodel\"\n",
    "nPoints = 18\n",
    "POSE_PAIRS = [ [1,0],[1,2],[1,5],[2,3],[3,4],[5,6],[6,7],[1,8],[8,9],[9,10],[1,11],[11,12],[12,13],[0,14],[0,15],[14,16],[15,17]]\n",
    "\n",
    "frame = cv2.imread(\"TreePose/604.jpg\")\n",
    "frameCopy = np.copy(frame)\n",
    "frameWidth = frame.shape[1]\n",
    "frameHeight = frame.shape[0]\n",
    "threshold = 0.1\n",
    "\n",
    "net = cv2.dnn.readNetFromCaffe(protoFile, weightsFile)\n",
    "\n",
    "t = time.time()\n",
    "# input image dimensions for the network\n",
    "inWidth = 368\n",
    "inHeight = 368\n",
    "inpBlob = cv2.dnn.blobFromImage(frame, 1.0 / 255, (inWidth, inHeight),\n",
    "                          (0, 0, 0), swapRB=False, crop=False)\n",
    "\n",
    "net.setInput(inpBlob)\n",
    "\n",
    "output = net.forward()\n",
    "print(\"time taken by network : {:.3f}\".format(time.time() - t))\n",
    "\n",
    "H = output.shape[2]\n",
    "W = output.shape[3]\n",
    "\n",
    "# Empty list to store the detected keypoints\n",
    "points = []\n",
    "predict_points = []\n",
    "\n",
    "def getPose(poseIndex):\n",
    "    if poseIndex == 0:\n",
    "        return \"Warrior Pose 1\"\n",
    "    if poseIndex == 1:\n",
    "        return \"Warrior Pose 2\"\n",
    "    if poseIndex == 2:\n",
    "        return \"Warrior Pose 3\"\n",
    "    if poseIndex == 3:\n",
    "        return \"Tree Pose\"\n",
    "\n",
    "for i in range(nPoints):\n",
    "    # confidence map of corresponding body's part.\n",
    "    probMap = output[0, i, :, :]\n",
    "\n",
    "    # Find global maxima of the probMap.\n",
    "    minVal, prob, minLoc, point = cv2.minMaxLoc(probMap)\n",
    "    \n",
    "    # Scale the point to fit on the original image\n",
    "    x = (frameWidth * point[0]) / W\n",
    "    y = (frameHeight * point[1]) / H\n",
    "\n",
    "    if prob > threshold : \n",
    "        cv2.circle(frameCopy, (int(x), int(y)), 8, (0, 255, 255), thickness=-1, lineType=cv2.FILLED)\n",
    "        cv2.putText(frameCopy, \"{}\".format(i), (int(x), int(y)), cv2.FONT_HERSHEY_SIMPLEX, 1, (0, 0, 255), 2, lineType=cv2.LINE_AA)\n",
    "\n",
    "        # Add the point to the list if the probability is greater than the threshold\n",
    "        points.append((int(x), int(y)))\n",
    "        predict_points.append((float(x), float(y)))\n",
    "    else :\n",
    "        points.append(None)\n",
    "        predict_points.append((0,0))\n",
    "\n",
    "predict_points.pop()\n",
    "predict_points = [element for tupl in predict_points for element in tupl]\n",
    "predict_points = np.asarray(predict_points)\n",
    "predict_points = np.expand_dims(predict_points, axis=0)\n",
    "# prediction = model.predict(predict_points)\n",
    "prediction = model.predict_classes(predict_points)\n",
    "prediction = getPose(prediction)\n",
    "print(prediction)\n",
    "# Draw Skeleton\n",
    "for pair in POSE_PAIRS:\n",
    "    partA = pair[0]\n",
    "    partB = pair[1]\n",
    "\n",
    "    if points[partA] and points[partB]:\n",
    "        cv2.line(frame, points[partA], points[partB], (0, 255, 255), 2)\n",
    "        cv2.circle(frame, points[partA], 8, (0, 0, 255), thickness=-1, lineType=cv2.FILLED)\n",
    "\n",
    "\n",
    "cv2.imshow('Output-Keypoints', frameCopy)\n",
    "cv2.putText(frame, text=prediction, org=(10,50), fontFace=cv2.FONT_HERSHEY_SIMPLEX, fontScale=1.5, color=(255,0,255), thickness=2, lineType=cv2.LINE_AA)\n",
    "cv2.imshow('Output-Skeleton', frame)\n",
    "\n",
    "\n",
    "print(\"Total time taken : {:.3f}\".format(time.time() - t))\n",
    "\n",
    "cv2.waitKey(0)"
   ]
  },
  {
   "cell_type": "code",
   "execution_count": null,
   "metadata": {},
   "outputs": [],
   "source": []
  }
 ],
 "metadata": {
  "kernelspec": {
   "display_name": "Python 3",
   "language": "python",
   "name": "python3"
  },
  "language_info": {
   "codemirror_mode": {
    "name": "ipython",
    "version": 3
   },
   "file_extension": ".py",
   "mimetype": "text/x-python",
   "name": "python",
   "nbconvert_exporter": "python",
   "pygments_lexer": "ipython3",
   "version": "3.7.7"
  }
 },
 "nbformat": 4,
 "nbformat_minor": 2
}
