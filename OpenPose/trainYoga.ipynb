{
 "cells": [
  {
   "cell_type": "code",
   "execution_count": 1,
   "metadata": {},
   "outputs": [
    {
     "name": "stderr",
     "output_type": "stream",
     "text": [
      "Using TensorFlow backend.\n"
     ]
    }
   ],
   "source": [
    "import keras\n",
    "from keras.utils import to_categorical\n",
    "import pandas as pd\n",
    "import numpy as np\n",
    "import json"
   ]
  },
  {
   "cell_type": "code",
   "execution_count": 2,
   "metadata": {},
   "outputs": [],
   "source": [
    "with open('PoseNettrain.json') as f:\n",
    "  file = json.load(f)"
   ]
  },
  {
   "cell_type": "code",
   "execution_count": 3,
   "metadata": {},
   "outputs": [],
   "source": [
    "data = file['data']\n",
    "x_train =[]\n",
    "y_train = []\n",
    "\n",
    "def labelToNumerical(label):\n",
    "    if label == 'WarriorPoseI':\n",
    "        return 0\n",
    "    if label == 'WarriorPoseII':\n",
    "        return 1\n",
    "    if label == 'WarriorPoseIII':\n",
    "        return 2\n",
    "    if label == 'TreePose':\n",
    "        return 3\n",
    "\n",
    "i = 0\n",
    "for i in range(len(data)):\n",
    "    kpsArr = []\n",
    "    labels = []\n",
    "    for kps in data[i]['xs'].items():\n",
    "        kpsArr.append(kps[1])\n",
    "    for label in data[i]['ys'].items():\n",
    "        labels.append(labelToNumerical(label[1]))\n",
    "    x_train.append(kpsArr)\n",
    "    y_train.append(labels)\n",
    "    "
   ]
  },
  {
   "cell_type": "code",
   "execution_count": 4,
   "metadata": {},
   "outputs": [
    {
     "name": "stdout",
     "output_type": "stream",
     "text": [
      "[256.0, 84.75, 256.0, 118.65, 243.2, 118.65, 268.8, 73.45, 288.0, 39.55, 262.4, 118.65, 268.8, 73.45, 288.0, 33.9, 230.4, 192.1, 172.8, 186.45, 185.6, 242.95, 256.0, 192.1, 300.8, 231.65, 352.0, 265.55, 256.0, 84.75, 0, 0, 256.0, 90.4]\n",
      "(376, 34)\n",
      "[256.    84.75 256.   118.65 243.2  118.65 268.8   73.45 288.    39.55\n",
      " 262.4  118.65 268.8   73.45 288.    33.9  230.4  192.1  172.8  186.45\n",
      " 185.6  242.95 256.   192.1  300.8  231.65 352.   265.55 256.    84.75\n",
      "   0.     0.   256.    90.4 ]\n"
     ]
    }
   ],
   "source": [
    "print(x_train[0])\n",
    "x_train = np.asarray(x_train)\n",
    "print(x_train.shape)\n",
    "print(x_train[0])"
   ]
  },
  {
   "cell_type": "code",
   "execution_count": 5,
   "metadata": {},
   "outputs": [
    {
     "name": "stdout",
     "output_type": "stream",
     "text": [
      "[0]\n",
      "(376, 1)\n",
      "[0]\n"
     ]
    }
   ],
   "source": [
    "print(y_train[0])\n",
    "y_train = np.asarray(y_train)\n",
    "print(y_train.shape)\n",
    "print(y_train[0])"
   ]
  },
  {
   "cell_type": "code",
   "execution_count": 6,
   "metadata": {},
   "outputs": [],
   "source": [
    "y_cat_train = to_categorical(y_train,4)"
   ]
  },
  {
   "cell_type": "code",
   "execution_count": 7,
   "metadata": {},
   "outputs": [
    {
     "data": {
      "text/plain": [
       "array([1., 0., 0., 0.], dtype=float32)"
      ]
     },
     "execution_count": 7,
     "metadata": {},
     "output_type": "execute_result"
    }
   ],
   "source": [
    "y_cat_train[0]"
   ]
  },
  {
   "cell_type": "markdown",
   "metadata": {},
   "source": [
    "# Building the model"
   ]
  },
  {
   "cell_type": "code",
   "execution_count": 12,
   "metadata": {},
   "outputs": [
    {
     "name": "stdout",
     "output_type": "stream",
     "text": [
      "Epoch 1/50\n",
      "376/376 [==============================] - 0s 143us/step - loss: 117.3049 - accuracy: 0.0612\n",
      "Epoch 2/50\n",
      "376/376 [==============================] - 0s 21us/step - loss: 37.6429 - accuracy: 0.1809\n",
      "Epoch 3/50\n",
      "376/376 [==============================] - 0s 24us/step - loss: 22.9313 - accuracy: 0.2314\n",
      "Epoch 4/50\n",
      "376/376 [==============================] - 0s 24us/step - loss: 15.0988 - accuracy: 0.2074\n",
      "Epoch 5/50\n",
      "376/376 [==============================] - 0s 24us/step - loss: 8.4711 - accuracy: 0.2234\n",
      "Epoch 6/50\n",
      "376/376 [==============================] - 0s 24us/step - loss: 4.1297 - accuracy: 0.5426\n",
      "Epoch 7/50\n",
      "376/376 [==============================] - 0s 27us/step - loss: 2.4267 - accuracy: 0.5957\n",
      "Epoch 8/50\n",
      "376/376 [==============================] - 0s 24us/step - loss: 1.1896 - accuracy: 0.7074\n",
      "Epoch 9/50\n",
      "376/376 [==============================] - 0s 27us/step - loss: 0.3592 - accuracy: 0.7926\n",
      "Epoch 10/50\n",
      "376/376 [==============================] - 0s 24us/step - loss: 0.0864 - accuracy: 1.0000\n",
      "Epoch 11/50\n",
      "376/376 [==============================] - 0s 24us/step - loss: 0.0308 - accuracy: 1.0000\n",
      "Epoch 12/50\n",
      "376/376 [==============================] - 0s 29us/step - loss: 0.0135 - accuracy: 1.0000\n",
      "Epoch 13/50\n",
      "376/376 [==============================] - 0s 27us/step - loss: 0.0064 - accuracy: 1.0000\n",
      "Epoch 14/50\n",
      "376/376 [==============================] - 0s 21us/step - loss: 0.0040 - accuracy: 1.0000\n",
      "Epoch 15/50\n",
      "376/376 [==============================] - 0s 24us/step - loss: 0.0162 - accuracy: 1.0000\n",
      "Epoch 16/50\n",
      "376/376 [==============================] - 0s 27us/step - loss: 0.0024 - accuracy: 1.0000\n",
      "Epoch 17/50\n",
      "376/376 [==============================] - 0s 21us/step - loss: 0.0013 - accuracy: 1.0000\n",
      "Epoch 18/50\n",
      "376/376 [==============================] - 0s 24us/step - loss: 8.6635e-04 - accuracy: 1.0000\n",
      "Epoch 19/50\n",
      "376/376 [==============================] - 0s 24us/step - loss: 6.0368e-04 - accuracy: 1.0000\n",
      "Epoch 20/50\n",
      "376/376 [==============================] - 0s 24us/step - loss: 4.4416e-04 - accuracy: 1.0000\n",
      "Epoch 21/50\n",
      "376/376 [==============================] - 0s 21us/step - loss: 3.1902e-04 - accuracy: 1.0000\n",
      "Epoch 22/50\n",
      "376/376 [==============================] - 0s 24us/step - loss: 2.1332e-04 - accuracy: 1.0000\n",
      "Epoch 23/50\n",
      "376/376 [==============================] - 0s 21us/step - loss: 1.3777e-04 - accuracy: 1.0000\n",
      "Epoch 24/50\n",
      "376/376 [==============================] - 0s 21us/step - loss: 8.4553e-05 - accuracy: 1.0000\n",
      "Epoch 25/50\n",
      "376/376 [==============================] - 0s 24us/step - loss: 4.5675e-05 - accuracy: 1.0000\n",
      "Epoch 26/50\n",
      "376/376 [==============================] - 0s 27us/step - loss: 2.8120e-05 - accuracy: 1.0000\n",
      "Epoch 27/50\n",
      "376/376 [==============================] - 0s 24us/step - loss: 2.5360e-04 - accuracy: 1.0000\n",
      "Epoch 28/50\n",
      "376/376 [==============================] - 0s 29us/step - loss: 3.3388e-05 - accuracy: 1.0000\n",
      "Epoch 29/50\n",
      "376/376 [==============================] - 0s 27us/step - loss: 1.2660e-05 - accuracy: 1.0000\n",
      "Epoch 30/50\n",
      "376/376 [==============================] - 0s 27us/step - loss: 7.5329e-06 - accuracy: 1.0000\n",
      "Epoch 31/50\n",
      "376/376 [==============================] - 0s 24us/step - loss: 5.1063e-06 - accuracy: 1.0000\n",
      "Epoch 32/50\n",
      "376/376 [==============================] - 0s 29us/step - loss: 3.8461e-06 - accuracy: 1.0000\n",
      "Epoch 33/50\n",
      "376/376 [==============================] - 0s 27us/step - loss: 2.9276e-06 - accuracy: 1.0000\n",
      "Epoch 34/50\n",
      "376/376 [==============================] - 0s 27us/step - loss: 2.1185e-06 - accuracy: 1.0000\n",
      "Epoch 35/50\n",
      "376/376 [==============================] - 0s 24us/step - loss: 1.4495e-06 - accuracy: 1.0000\n",
      "Epoch 36/50\n",
      "376/376 [==============================] - 0s 27us/step - loss: 9.0390e-07 - accuracy: 1.0000\n",
      "Epoch 37/50\n",
      "376/376 [==============================] - 0s 24us/step - loss: 5.4944e-07 - accuracy: 1.0000\n",
      "Epoch 38/50\n",
      "376/376 [==============================] - 0s 24us/step - loss: 3.2307e-07 - accuracy: 1.0000\n",
      "Epoch 39/50\n",
      "376/376 [==============================] - 0s 24us/step - loss: 1.9023e-07 - accuracy: 1.0000\n",
      "Epoch 40/50\n",
      "376/376 [==============================] - 0s 27us/step - loss: 1.3570e-07 - accuracy: 1.0000\n",
      "Epoch 41/50\n",
      "376/376 [==============================] - 0s 24us/step - loss: 5.2313e-08 - accuracy: 1.0000\n",
      "Epoch 42/50\n",
      "376/376 [==============================] - 0s 21us/step - loss: 5.3581e-08 - accuracy: 1.0000\n",
      "Epoch 43/50\n",
      "376/376 [==============================] - 0s 27us/step - loss: 2.2288e-06 - accuracy: 1.0000\n",
      "Epoch 44/50\n",
      "376/376 [==============================] - 0s 24us/step - loss: 3.9948e-08 - accuracy: 1.0000\n",
      "Epoch 45/50\n",
      "376/376 [==============================] - 0s 21us/step - loss: 3.2656e-08 - accuracy: 1.0000\n",
      "Epoch 46/50\n",
      "376/376 [==============================] - 0s 29us/step - loss: 1.5852e-08 - accuracy: 1.0000\n",
      "Epoch 47/50\n",
      "376/376 [==============================] - 0s 24us/step - loss: 1.2365e-08 - accuracy: 1.0000\n",
      "Epoch 48/50\n",
      "376/376 [==============================] - 0s 24us/step - loss: 1.6169e-08 - accuracy: 1.0000\n",
      "Epoch 49/50\n",
      "376/376 [==============================] - 0s 27us/step - loss: 1.9340e-08 - accuracy: 1.0000\n",
      "Epoch 50/50\n",
      "376/376 [==============================] - 0s 29us/step - loss: 1.5852e-08 - accuracy: 1.0000\n"
     ]
    }
   ],
   "source": [
    "from keras.models import Sequential\n",
    "from keras.layers import Dense, Dropout, Activation\n",
    "\n",
    "model = Sequential()\n",
    "\n",
    "model.add(Dense(8, activation='relu'))\n",
    "model.add(Dense(4, activation='softmax'))\n",
    "model.compile(loss='categorical_crossentropy', optimizer='rmsprop', metrics=['accuracy'])\n",
    "\n",
    "hist = model.fit(x_train, y_cat_train, verbose=1, epochs=50)"
   ]
  },
  {
   "cell_type": "code",
   "execution_count": 9,
   "metadata": {},
   "outputs": [
    {
     "data": {
      "text/plain": [
       "[<matplotlib.lines.Line2D at 0x155c5ce8348>]"
      ]
     },
     "execution_count": 9,
     "metadata": {},
     "output_type": "execute_result"
    },
    {
     "data": {
      "image/png": "[encoded data removed]",
      "text/plain": [
       "<Figure size 432x288 with 1 Axes>"
      ]
     },
     "metadata": {
      "needs_background": "light"
     },
     "output_type": "display_data"
    }
   ],
   "source": [
    "import matplotlib.pyplot as plt\n",
    "%matplotlib inline\n",
    "\n",
    "plt.plot(hist.history['loss'])\n"
   ]
  },
  {
   "cell_type": "code",
   "execution_count": 13,
   "metadata": {},
   "outputs": [],
   "source": [
    "model.save('test.h5')"
   ]
  },
  {
   "cell_type": "code",
   "execution_count": null,
   "metadata": {},
   "outputs": [],
   "source": []
  }
 ],
 "metadata": {
  "kernelspec": {
   "display_name": "Python 3",
   "language": "python",
   "name": "python3"
  },
  "language_info": {
   "codemirror_mode": {
    "name": "ipython",
    "version": 3
   },
   "file_extension": ".py",
   "mimetype": "text/x-python",
   "name": "python",
   "nbconvert_exporter": "python",
   "pygments_lexer": "ipython3",
   "version": "3.7.7"
  }
 },
 "nbformat": 4,
 "nbformat_minor": 2
}
