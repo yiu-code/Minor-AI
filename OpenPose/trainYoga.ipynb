{
 "cells": [
  {
   "cell_type": "code",
   "execution_count": 13,
   "metadata": {},
   "outputs": [],
   "source": [
    "import keras\n",
    "from keras.utils import to_categorical\n",
    "from sklearn.model_selection import train_test_split\n",
    "import pandas as pd\n",
    "import numpy as np\n",
    "import json"
   ]
  },
  {
   "cell_type": "code",
   "execution_count": 14,
   "metadata": {},
   "outputs": [],
   "source": [
    "with open('OpenPosetrain.json') as f:\n",
    "  file = json.load(f)"
   ]
  },
  {
   "cell_type": "code",
   "execution_count": 15,
   "metadata": {},
   "outputs": [],
   "source": [
    "data = file['data']\n",
    "x_train =[]\n",
    "y_train = []\n",
    "\n",
    "def labelToNumerical(label):\n",
    "    if label == 'WarriorPoseI':\n",
    "        return 0\n",
    "    if label == 'WarriorPoseII':\n",
    "        return 1\n",
    "    if label == 'WarriorPoseIII':\n",
    "        return 2\n",
    "    if label == 'TreePose':\n",
    "        return 3\n",
    "\n",
    "i = 0\n",
    "for i in range(len(data)):\n",
    "    kpsArr = []\n",
    "    labels = []\n",
    "    for kps in data[i]['xs'].items():\n",
    "        kpsArr.append(kps[1])\n",
    "    for label in data[i]['ys'].items():\n",
    "        labels.append(labelToNumerical(label[1]))\n",
    "    x_train.append(kpsArr)\n",
    "    y_train.append(labels)\n",
    "    "
   ]
  },
  {
   "cell_type": "code",
   "execution_count": 16,
   "metadata": {},
   "outputs": [
    {
     "name": "stdout",
     "output_type": "stream",
     "text": [
      "[212.5, 95.0, 225.0, 115.0, 218.75, 115.0, 0, 0, 0, 0, 237.5, 115.0, 243.75, 100.0, 231.25, 85.0, 225.0, 170.0, 243.75, 180.0, 331.25, 235.0, 231.25, 170.0, 181.25, 190.0, 187.5, 235.0, 0, 0, 212.5, 90.0, 0, 0, 225.0, 95.0]\n",
      "(592, 36)\n",
      "[212.5   95.   225.   115.   218.75 115.     0.     0.     0.     0.\n",
      " 237.5  115.   243.75 100.   231.25  85.   225.   170.   243.75 180.\n",
      " 331.25 235.   231.25 170.   181.25 190.   187.5  235.     0.     0.\n",
      " 212.5   90.     0.     0.   225.    95.  ]\n"
     ]
    }
   ],
   "source": [
    "print(x_train[0])\n",
    "x_train = np.asarray(x_train)\n",
    "print(x_train.shape)\n",
    "print(x_train[0])"
   ]
  },
  {
   "cell_type": "code",
   "execution_count": 17,
   "metadata": {},
   "outputs": [
    {
     "name": "stdout",
     "output_type": "stream",
     "text": [
      "[0]\n",
      "(592, 1)\n",
      "[0]\n"
     ]
    }
   ],
   "source": [
    "print(y_train[0])\n",
    "y_train = np.asarray(y_train)\n",
    "print(y_train.shape)\n",
    "print(y_train[0])"
   ]
  },
  {
   "cell_type": "code",
   "execution_count": 18,
   "metadata": {},
   "outputs": [],
   "source": [
    "y_cat_train = to_categorical(y_train,4)"
   ]
  },
  {
   "cell_type": "code",
   "execution_count": 19,
   "metadata": {},
   "outputs": [
    {
     "data": {
      "text/plain": [
       "array([1., 0., 0., 0.], dtype=float32)"
      ]
     },
     "execution_count": 19,
     "metadata": {},
     "output_type": "execute_result"
    }
   ],
   "source": [
    "y_cat_train[0]"
   ]
  },
  {
   "cell_type": "code",
   "execution_count": null,
   "metadata": {},
   "outputs": [],
   "source": []
  },
  {
   "cell_type": "markdown",
   "metadata": {},
   "source": [
    "# Building the model"
   ]
  },
  {
   "cell_type": "code",
   "execution_count": 37,
   "metadata": {},
   "outputs": [
    {
     "name": "stdout",
     "output_type": "stream",
     "text": [
      "Train on 473 samples, validate on 119 samples\n",
      "Epoch 1/100\n",
      "473/473 [==============================] - 0s 232us/step - loss: 184.1713 - accuracy: 0.4080 - val_loss: 54.1353 - val_accuracy: 0.0000e+00\n",
      "Epoch 2/100\n",
      "473/473 [==============================] - 0s 32us/step - loss: 103.6849 - accuracy: 0.4841 - val_loss: 58.8203 - val_accuracy: 0.0000e+00\n",
      "Epoch 3/100\n",
      "473/473 [==============================] - 0s 32us/step - loss: 38.0662 - accuracy: 0.6131 - val_loss: 29.9851 - val_accuracy: 0.0000e+00\n",
      "Epoch 4/100\n",
      "473/473 [==============================] - 0s 32us/step - loss: 17.7704 - accuracy: 0.6808 - val_loss: 18.5303 - val_accuracy: 0.0000e+00\n",
      "Epoch 5/100\n",
      "473/473 [==============================] - 0s 32us/step - loss: 9.0818 - accuracy: 0.7400 - val_loss: 24.6571 - val_accuracy: 0.0000e+00\n",
      "Epoch 6/100\n",
      "473/473 [==============================] - 0s 34us/step - loss: 4.9066 - accuracy: 0.7400 - val_loss: 17.1296 - val_accuracy: 0.0000e+00\n",
      "Epoch 7/100\n",
      "473/473 [==============================] - 0s 32us/step - loss: 2.7896 - accuracy: 0.7738 - val_loss: 18.7432 - val_accuracy: 0.0000e+00\n",
      "Epoch 8/100\n",
      "473/473 [==============================] - 0s 32us/step - loss: 1.4384 - accuracy: 0.7357 - val_loss: 8.1578 - val_accuracy: 0.0000e+00\n",
      "Epoch 9/100\n",
      "473/473 [==============================] - 0s 32us/step - loss: 0.9899 - accuracy: 0.8076 - val_loss: 0.2049 - val_accuracy: 1.0000\n",
      "Epoch 10/100\n",
      "473/473 [==============================] - 0s 27us/step - loss: 0.8801 - accuracy: 0.7970 - val_loss: 0.0100 - val_accuracy: 1.0000\n",
      "Epoch 11/100\n",
      "473/473 [==============================] - 0s 30us/step - loss: 0.7726 - accuracy: 0.7949 - val_loss: 0.0336 - val_accuracy: 1.0000\n",
      "Epoch 12/100\n",
      "473/473 [==============================] - 0s 30us/step - loss: 0.7107 - accuracy: 0.7992 - val_loss: 0.1299 - val_accuracy: 1.0000\n",
      "Epoch 13/100\n",
      "473/473 [==============================] - 0s 30us/step - loss: 0.5986 - accuracy: 0.7886 - val_loss: 0.3261 - val_accuracy: 1.0000\n",
      "Epoch 14/100\n",
      "473/473 [==============================] - 0s 27us/step - loss: 0.5340 - accuracy: 0.7780 - val_loss: 0.3839 - val_accuracy: 1.0000\n",
      "Epoch 15/100\n",
      "473/473 [==============================] - 0s 32us/step - loss: 0.4935 - accuracy: 0.7865 - val_loss: 0.5757 - val_accuracy: 1.0000\n",
      "Epoch 16/100\n",
      "473/473 [==============================] - 0s 32us/step - loss: 0.4563 - accuracy: 0.7928 - val_loss: 1.2296 - val_accuracy: 0.0000e+00\n",
      "Epoch 17/100\n",
      "473/473 [==============================] - 0s 30us/step - loss: 0.3760 - accuracy: 0.7844 - val_loss: 1.8592 - val_accuracy: 0.0000e+00\n",
      "Epoch 18/100\n",
      "473/473 [==============================] - 0s 30us/step - loss: 0.3931 - accuracy: 0.8076 - val_loss: 1.8215 - val_accuracy: 0.0000e+00\n",
      "Epoch 19/100\n",
      "473/473 [==============================] - 0s 30us/step - loss: 0.3174 - accuracy: 0.8689 - val_loss: 1.8192 - val_accuracy: 0.0000e+00\n",
      "Epoch 20/100\n",
      "473/473 [==============================] - 0s 27us/step - loss: 0.3790 - accuracy: 0.8372 - val_loss: 1.7943 - val_accuracy: 0.0000e+00\n",
      "Epoch 21/100\n",
      "473/473 [==============================] - 0s 30us/step - loss: 0.3784 - accuracy: 0.8266 - val_loss: 1.8048 - val_accuracy: 0.0000e+00\n",
      "Epoch 22/100\n",
      "473/473 [==============================] - 0s 30us/step - loss: 0.3390 - accuracy: 0.8668 - val_loss: 1.8027 - val_accuracy: 0.0000e+00\n",
      "Epoch 23/100\n",
      "473/473 [==============================] - 0s 32us/step - loss: 0.3156 - accuracy: 0.8436 - val_loss: 1.7536 - val_accuracy: 0.0000e+00\n",
      "Epoch 24/100\n",
      "473/473 [==============================] - 0s 27us/step - loss: 0.3076 - accuracy: 0.8499 - val_loss: 1.7262 - val_accuracy: 0.0000e+00\n",
      "Epoch 25/100\n",
      "473/473 [==============================] - 0s 30us/step - loss: 0.2979 - accuracy: 0.8605 - val_loss: 1.9049 - val_accuracy: 0.0000e+00\n",
      "Epoch 26/100\n",
      "473/473 [==============================] - 0s 27us/step - loss: 0.3055 - accuracy: 0.8668 - val_loss: 1.6958 - val_accuracy: 0.0000e+00\n",
      "Epoch 27/100\n",
      "473/473 [==============================] - 0s 30us/step - loss: 0.3176 - accuracy: 0.8858 - val_loss: 1.6910 - val_accuracy: 0.0000e+00\n",
      "Epoch 28/100\n",
      "473/473 [==============================] - 0s 30us/step - loss: 0.3016 - accuracy: 0.8520 - val_loss: 1.6628 - val_accuracy: 0.0000e+00\n",
      "Epoch 29/100\n",
      "473/473 [==============================] - 0s 32us/step - loss: 0.3362 - accuracy: 0.8436 - val_loss: 1.7450 - val_accuracy: 0.0000e+00\n",
      "Epoch 30/100\n",
      "473/473 [==============================] - 0s 30us/step - loss: 0.3305 - accuracy: 0.8732 - val_loss: 1.7663 - val_accuracy: 0.0000e+00\n",
      "Epoch 31/100\n",
      "473/473 [==============================] - 0s 30us/step - loss: 0.3288 - accuracy: 0.8393 - val_loss: 1.6589 - val_accuracy: 0.0000e+00\n",
      "Epoch 32/100\n",
      "473/473 [==============================] - 0s 32us/step - loss: 0.3031 - accuracy: 0.8795 - val_loss: 1.6459 - val_accuracy: 0.0000e+00\n",
      "Epoch 33/100\n",
      "473/473 [==============================] - 0s 32us/step - loss: 0.3288 - accuracy: 0.8541 - val_loss: 1.6229 - val_accuracy: 0.0000e+00\n",
      "Epoch 34/100\n",
      "473/473 [==============================] - 0s 32us/step - loss: 0.2972 - accuracy: 0.8879 - val_loss: 1.6192 - val_accuracy: 0.0000e+00\n",
      "Epoch 35/100\n",
      "473/473 [==============================] - 0s 30us/step - loss: 0.2951 - accuracy: 0.8964 - val_loss: 1.6101 - val_accuracy: 0.0000e+00\n",
      "Epoch 36/100\n",
      "473/473 [==============================] - 0s 32us/step - loss: 0.3158 - accuracy: 0.8858 - val_loss: 1.5853 - val_accuracy: 0.0000e+00\n",
      "Epoch 37/100\n",
      "473/473 [==============================] - 0s 28us/step - loss: 0.3274 - accuracy: 0.9091 - val_loss: 1.5727 - val_accuracy: 0.0000e+00\n",
      "Epoch 38/100\n",
      "473/473 [==============================] - 0s 30us/step - loss: 0.3354 - accuracy: 0.8837 - val_loss: 1.5318 - val_accuracy: 0.0000e+00\n",
      "Epoch 39/100\n",
      "473/473 [==============================] - 0s 30us/step - loss: 0.2699 - accuracy: 0.9112 - val_loss: 1.5560 - val_accuracy: 0.0000e+00\n",
      "Epoch 40/100\n",
      "473/473 [==============================] - 0s 30us/step - loss: 0.3138 - accuracy: 0.8816 - val_loss: 1.5475 - val_accuracy: 0.0000e+00\n",
      "Epoch 41/100\n",
      "473/473 [==============================] - 0s 27us/step - loss: 0.2860 - accuracy: 0.9133 - val_loss: 1.5018 - val_accuracy: 0.0000e+00\n",
      "Epoch 42/100\n",
      "473/473 [==============================] - 0s 30us/step - loss: 0.3148 - accuracy: 0.8689 - val_loss: 1.5151 - val_accuracy: 0.0000e+00\n",
      "Epoch 43/100\n",
      "473/473 [==============================] - 0s 27us/step - loss: 0.2993 - accuracy: 0.8964 - val_loss: 1.5449 - val_accuracy: 0.0000e+00\n",
      "Epoch 44/100\n",
      "473/473 [==============================] - 0s 30us/step - loss: 0.3074 - accuracy: 0.9027 - val_loss: 1.5353 - val_accuracy: 0.0000e+00\n",
      "Epoch 45/100\n",
      "473/473 [==============================] - 0s 27us/step - loss: 0.2829 - accuracy: 0.9281 - val_loss: 1.5467 - val_accuracy: 0.0000e+00\n",
      "Epoch 46/100\n",
      "473/473 [==============================] - 0s 30us/step - loss: 0.3079 - accuracy: 0.8753 - val_loss: 1.5168 - val_accuracy: 0.0000e+00\n",
      "Epoch 47/100\n",
      "473/473 [==============================] - 0s 32us/step - loss: 0.2592 - accuracy: 0.9281 - val_loss: 1.4519 - val_accuracy: 0.0000e+00\n",
      "Epoch 48/100\n",
      "473/473 [==============================] - 0s 30us/step - loss: 0.3104 - accuracy: 0.8816 - val_loss: 1.4465 - val_accuracy: 0.0000e+00\n",
      "Epoch 49/100\n",
      "473/473 [==============================] - 0s 32us/step - loss: 0.3496 - accuracy: 0.8541 - val_loss: 1.4328 - val_accuracy: 0.0000e+00\n",
      "Epoch 50/100\n",
      "473/473 [==============================] - 0s 30us/step - loss: 0.3042 - accuracy: 0.8816 - val_loss: 1.4205 - val_accuracy: 0.0000e+00\n",
      "Epoch 51/100\n",
      "473/473 [==============================] - 0s 32us/step - loss: 0.2935 - accuracy: 0.8753 - val_loss: 1.4068 - val_accuracy: 0.0000e+00\n",
      "Epoch 52/100\n",
      "473/473 [==============================] - 0s 30us/step - loss: 0.2861 - accuracy: 0.9027 - val_loss: 1.3646 - val_accuracy: 0.0000e+00\n",
      "Epoch 53/100\n",
      "473/473 [==============================] - 0s 30us/step - loss: 0.2772 - accuracy: 0.9218 - val_loss: 1.3355 - val_accuracy: 0.0000e+00\n",
      "Epoch 54/100\n",
      "473/473 [==============================] - 0s 27us/step - loss: 0.2725 - accuracy: 0.9345 - val_loss: 1.3225 - val_accuracy: 0.0000e+00\n",
      "Epoch 55/100\n",
      "473/473 [==============================] - 0s 30us/step - loss: 0.3058 - accuracy: 0.9302 - val_loss: 1.3360 - val_accuracy: 0.0000e+00\n",
      "Epoch 56/100\n",
      "473/473 [==============================] - 0s 30us/step - loss: 0.2919 - accuracy: 0.9218 - val_loss: 1.4146 - val_accuracy: 0.0000e+00\n",
      "Epoch 57/100\n",
      "473/473 [==============================] - 0s 30us/step - loss: 0.3152 - accuracy: 0.8879 - val_loss: 1.4719 - val_accuracy: 0.0000e+00\n",
      "Epoch 58/100\n",
      "473/473 [==============================] - 0s 30us/step - loss: 0.2856 - accuracy: 0.8879 - val_loss: 1.4238 - val_accuracy: 0.0000e+00\n",
      "Epoch 59/100\n",
      "473/473 [==============================] - 0s 30us/step - loss: 0.2769 - accuracy: 0.9302 - val_loss: 1.4272 - val_accuracy: 0.0000e+00\n",
      "Epoch 60/100\n",
      "473/473 [==============================] - 0s 30us/step - loss: 0.2760 - accuracy: 0.9175 - val_loss: 1.4410 - val_accuracy: 0.0000e+00\n",
      "Epoch 61/100\n",
      "473/473 [==============================] - 0s 27us/step - loss: 0.3053 - accuracy: 0.9049 - val_loss: 1.4425 - val_accuracy: 0.0000e+00\n",
      "Epoch 62/100\n",
      "473/473 [==============================] - 0s 27us/step - loss: 0.2830 - accuracy: 0.8985 - val_loss: 1.5004 - val_accuracy: 0.0000e+00\n",
      "Epoch 63/100\n",
      "473/473 [==============================] - 0s 30us/step - loss: 0.2662 - accuracy: 0.8964 - val_loss: 1.4828 - val_accuracy: 0.0000e+00\n",
      "Epoch 64/100\n",
      "473/473 [==============================] - 0s 27us/step - loss: 0.3131 - accuracy: 0.9070 - val_loss: 1.5046 - val_accuracy: 0.0000e+00\n",
      "Epoch 65/100\n",
      "473/473 [==============================] - 0s 30us/step - loss: 0.2691 - accuracy: 0.9239 - val_loss: 1.5120 - val_accuracy: 0.0000e+00\n",
      "Epoch 66/100\n",
      "473/473 [==============================] - 0s 30us/step - loss: 0.2860 - accuracy: 0.9049 - val_loss: 1.5217 - val_accuracy: 0.0000e+00\n",
      "Epoch 67/100\n",
      "473/473 [==============================] - 0s 30us/step - loss: 0.2821 - accuracy: 0.9091 - val_loss: 1.5388 - val_accuracy: 0.0000e+00\n",
      "Epoch 68/100\n",
      "473/473 [==============================] - 0s 30us/step - loss: 0.2804 - accuracy: 0.8689 - val_loss: 1.5502 - val_accuracy: 0.0000e+00\n",
      "Epoch 69/100\n",
      "473/473 [==============================] - 0s 30us/step - loss: 0.2916 - accuracy: 0.9133 - val_loss: 1.5392 - val_accuracy: 0.0000e+00\n",
      "Epoch 70/100\n",
      "473/473 [==============================] - 0s 32us/step - loss: 0.2797 - accuracy: 0.9027 - val_loss: 1.5641 - val_accuracy: 0.0000e+00\n",
      "Epoch 71/100\n",
      "473/473 [==============================] - 0s 30us/step - loss: 0.2600 - accuracy: 0.9218 - val_loss: 1.5699 - val_accuracy: 0.0000e+00\n",
      "Epoch 72/100\n",
      "473/473 [==============================] - 0s 30us/step - loss: 0.2702 - accuracy: 0.9154 - val_loss: 1.5752 - val_accuracy: 0.0000e+00\n",
      "Epoch 73/100\n",
      "473/473 [==============================] - 0s 30us/step - loss: 0.2504 - accuracy: 0.9302 - val_loss: 1.6057 - val_accuracy: 0.0000e+00\n",
      "Epoch 74/100\n",
      "473/473 [==============================] - 0s 27us/step - loss: 0.2546 - accuracy: 0.9154 - val_loss: 1.6103 - val_accuracy: 0.0000e+00\n",
      "Epoch 75/100\n",
      "473/473 [==============================] - 0s 30us/step - loss: 0.2641 - accuracy: 0.9218 - val_loss: 1.6079 - val_accuracy: 0.0000e+00\n",
      "Epoch 76/100\n",
      "473/473 [==============================] - 0s 30us/step - loss: 0.2603 - accuracy: 0.9260 - val_loss: 1.6226 - val_accuracy: 0.0000e+00\n",
      "Epoch 77/100\n",
      "473/473 [==============================] - 0s 32us/step - loss: 0.2860 - accuracy: 0.9091 - val_loss: 1.6355 - val_accuracy: 0.0000e+00\n",
      "Epoch 78/100\n",
      "473/473 [==============================] - 0s 30us/step - loss: 0.2504 - accuracy: 0.9197 - val_loss: 1.6292 - val_accuracy: 0.0000e+00\n",
      "Epoch 79/100\n",
      "473/473 [==============================] - 0s 32us/step - loss: 0.2994 - accuracy: 0.8943 - val_loss: 1.6228 - val_accuracy: 0.0000e+00\n",
      "Epoch 80/100\n",
      "473/473 [==============================] - 0s 27us/step - loss: 0.2653 - accuracy: 0.9154 - val_loss: 1.6756 - val_accuracy: 0.0000e+00\n",
      "Epoch 81/100\n",
      "473/473 [==============================] - 0s 30us/step - loss: 0.2447 - accuracy: 0.9260 - val_loss: 1.6629 - val_accuracy: 0.0000e+00\n",
      "Epoch 82/100\n",
      "473/473 [==============================] - 0s 27us/step - loss: 0.2687 - accuracy: 0.9070 - val_loss: 1.6658 - val_accuracy: 0.0000e+00\n",
      "Epoch 83/100\n",
      "473/473 [==============================] - 0s 30us/step - loss: 0.2297 - accuracy: 0.9239 - val_loss: 1.6924 - val_accuracy: 0.0000e+00\n",
      "Epoch 84/100\n",
      "473/473 [==============================] - 0s 30us/step - loss: 0.2388 - accuracy: 0.9197 - val_loss: 1.6947 - val_accuracy: 0.0000e+00\n",
      "Epoch 85/100\n",
      "473/473 [==============================] - 0s 25us/step - loss: 0.2606 - accuracy: 0.9027 - val_loss: 1.6862 - val_accuracy: 0.0000e+00\n",
      "Epoch 86/100\n",
      "473/473 [==============================] - 0s 30us/step - loss: 0.2457 - accuracy: 0.9218 - val_loss: 1.7014 - val_accuracy: 0.0000e+00\n",
      "Epoch 87/100\n",
      "473/473 [==============================] - 0s 32us/step - loss: 0.2481 - accuracy: 0.9154 - val_loss: 1.7145 - val_accuracy: 0.0000e+00\n",
      "Epoch 88/100\n",
      "473/473 [==============================] - 0s 30us/step - loss: 0.2263 - accuracy: 0.9091 - val_loss: 1.7544 - val_accuracy: 0.0000e+00\n",
      "Epoch 89/100\n",
      "473/473 [==============================] - 0s 29us/step - loss: 0.2386 - accuracy: 0.9260 - val_loss: 1.7614 - val_accuracy: 0.0000e+00\n",
      "Epoch 90/100\n",
      "473/473 [==============================] - 0s 30us/step - loss: 0.2577 - accuracy: 0.9049 - val_loss: 1.7203 - val_accuracy: 0.0000e+00\n",
      "Epoch 91/100\n",
      "473/473 [==============================] - 0s 27us/step - loss: 0.2209 - accuracy: 0.9281 - val_loss: 1.7604 - val_accuracy: 0.0000e+00\n",
      "Epoch 92/100\n",
      "473/473 [==============================] - 0s 32us/step - loss: 0.2245 - accuracy: 0.9323 - val_loss: 1.7534 - val_accuracy: 0.0000e+00\n",
      "Epoch 93/100\n",
      "473/473 [==============================] - 0s 34us/step - loss: 0.2490 - accuracy: 0.9070 - val_loss: 1.7589 - val_accuracy: 0.0000e+00\n",
      "Epoch 94/100\n",
      "473/473 [==============================] - 0s 30us/step - loss: 0.2281 - accuracy: 0.9260 - val_loss: 1.7759 - val_accuracy: 0.0000e+00\n",
      "Epoch 95/100\n",
      "473/473 [==============================] - 0s 30us/step - loss: 0.2274 - accuracy: 0.9239 - val_loss: 1.7732 - val_accuracy: 0.0000e+00\n",
      "Epoch 96/100\n",
      "473/473 [==============================] - 0s 30us/step - loss: 0.2255 - accuracy: 0.9197 - val_loss: 1.7964 - val_accuracy: 0.0000e+00\n",
      "Epoch 97/100\n",
      "473/473 [==============================] - 0s 30us/step - loss: 0.1723 - accuracy: 0.9598 - val_loss: 1.7878 - val_accuracy: 0.0000e+00\n",
      "Epoch 98/100\n",
      "473/473 [==============================] - 0s 32us/step - loss: 0.2381 - accuracy: 0.9133 - val_loss: 1.7901 - val_accuracy: 0.0000e+00\n",
      "Epoch 99/100\n",
      "473/473 [==============================] - 0s 27us/step - loss: 0.2710 - accuracy: 0.8943 - val_loss: 1.8111 - val_accuracy: 0.0000e+00\n",
      "Epoch 100/100\n",
      "473/473 [==============================] - 0s 32us/step - loss: 0.2646 - accuracy: 0.9049 - val_loss: 1.8172 - val_accuracy: 0.0000e+00\n"
     ]
    }
   ],
   "source": [
    "from keras.models import Sequential\n",
    "from keras.layers import Dense, Dropout, Activation\n",
    "\n",
    "model = Sequential()\n",
    "\n",
    "model.add(Dense(16, activation='relu'))\n",
    "model.add(Dropout(0.5))\n",
    "model.add(Dense(4, activation='softmax'))\n",
    "model.compile(loss='categorical_crossentropy', optimizer='adam', metrics=['accuracy'])\n",
    "\n",
    "hist = model.fit(x_train, y_cat_train, validation_split=0.2, verbose=1, epochs=100)"
   ]
  },
  {
   "cell_type": "code",
   "execution_count": 38,
   "metadata": {},
   "outputs": [
    {
     "data": {
      "text/plain": [
       "[<matplotlib.lines.Line2D at 0x246da4235c8>]"
      ]
     },
     "execution_count": 38,
     "metadata": {},
     "output_type": "execute_result"
    },
    {
     "data": {
      "image/png": "[encoded data removed]",
      "text/plain": [
       "<Figure size 432x288 with 1 Axes>"
      ]
     },
     "metadata": {
      "needs_background": "light"
     },
     "output_type": "display_data"
    }
   ],
   "source": [
    "import matplotlib.pyplot as plt\n",
    "%matplotlib inline\n",
    "\n",
    "plt.plot(hist.history['loss'])\n"
   ]
  },
  {
   "cell_type": "code",
   "execution_count": 12,
   "metadata": {},
   "outputs": [],
   "source": [
    "model.save('test.h5')"
   ]
  },
  {
   "cell_type": "code",
   "execution_count": null,
   "metadata": {},
   "outputs": [],
   "source": []
  }
 ],
 "metadata": {
  "kernelspec": {
   "display_name": "Python 3",
   "language": "python",
   "name": "python3"
  },
  "language_info": {
   "codemirror_mode": {
    "name": "ipython",
    "version": 3
   },
   "file_extension": ".py",
   "mimetype": "text/x-python",
   "name": "python",
   "nbconvert_exporter": "python",
   "pygments_lexer": "ipython3",
   "version": "3.7.7"
  }
 },
 "nbformat": 4,
 "nbformat_minor": 2
}
