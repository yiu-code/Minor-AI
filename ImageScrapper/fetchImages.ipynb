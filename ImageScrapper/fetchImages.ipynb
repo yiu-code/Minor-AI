{
 "cells": [
  {
   "cell_type": "markdown",
   "metadata": {},
   "source": [
    "# Request data from Yoga-82 dataset and place the .txt files in this folder"
   ]
  },
  {
   "cell_type": "code",
   "execution_count": null,
   "metadata": {},
   "outputs": [],
   "source": [
    "import os\n",
    "\n",
    "from PIL import Image\n",
    "import requests\n",
    "import urllib.request as urllib2\n",
    "import shutil\n",
    "from io import BytesIO\n",
    "import pandas as pd\n",
    "\n",
    "df = pd.read_csv(\"Tree_Pose_or_Vrksasana_.txt\", error_bad_lines=False, names=[\"fileName\", \"urlPath\"])\n",
    "\n",
    "def loop_through_df(df, foldername):\n",
    "    name = \"\"\n",
    "    url = \"\"\n",
    "    path = \"../Images/\" + foldername\n",
    "    print(path)\n",
    "    if not os.path.exists(path):\n",
    "        os.makedirs(path)\n",
    "        print('folder created')\n",
    "    \n",
    "    for index in range(len(df.iloc[1:])):\n",
    "        name = df.iloc[index,0]\n",
    "        url = df.iloc[index,1]\n",
    "        if(os.path.exists(path + os.path.basename(name))):\n",
    "            continue\n",
    "        try:\n",
    "            response = requests.get(url)\n",
    "            if response.status_code != 200:\n",
    "                print(response.status_code)\n",
    "                print(name)\n",
    "                continue\n",
    "            img = Image.open(BytesIO(response.content))\n",
    "            print(os.path.basename(name))\n",
    "            response = img.save(path + os.path.basename(name))\n",
    "        except:\n",
    "            continue\n",
    "\n",
    "loop_through_df(df, 'example/')"
   ]
  },
  {
   "cell_type": "code",
   "execution_count": null,
   "metadata": {},
   "outputs": [],
   "source": []
  }
 ],
 "metadata": {
  "kernelspec": {
   "display_name": "Python 3",
   "language": "python",
   "name": "python3"
  },
  "language_info": {
   "codemirror_mode": {
    "name": "ipython",
    "version": 3
   },
   "file_extension": ".py",
   "mimetype": "text/x-python",
   "name": "python",
   "nbconvert_exporter": "python",
   "pygments_lexer": "ipython3",
   "version": "3.7.7"
  }
 },
 "nbformat": 4,
 "nbformat_minor": 2
}
